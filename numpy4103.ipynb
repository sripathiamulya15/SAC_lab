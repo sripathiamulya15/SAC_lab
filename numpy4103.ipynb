{
 "cells": [
  {
   "cell_type": "code",
   "execution_count": 1,
   "id": "c66f43f3",
   "metadata": {},
   "outputs": [
    {
     "data": {
      "text/plain": [
       "'2.2.3'"
      ]
     },
     "execution_count": 1,
     "metadata": {},
     "output_type": "execute_result"
    }
   ],
   "source": [
    "import numpy as np\n",
    "np.__version__"
   ]
  },
  {
   "cell_type": "code",
   "execution_count": 4,
   "id": "8ab81bb5",
   "metadata": {},
   "outputs": [
    {
     "data": {
      "text/plain": [
       "array([1, 2, 3])"
      ]
     },
     "execution_count": 4,
     "metadata": {},
     "output_type": "execute_result"
    }
   ],
   "source": [
    "array1=np.array([1,2,3])\n",
    "array1"
   ]
  },
  {
   "cell_type": "code",
   "execution_count": 5,
   "id": "8ec003f1",
   "metadata": {},
   "outputs": [
    {
     "data": {
      "text/plain": [
       "numpy.ndarray"
      ]
     },
     "execution_count": 5,
     "metadata": {},
     "output_type": "execute_result"
    }
   ],
   "source": [
    "type(array1)"
   ]
  },
  {
   "cell_type": "code",
   "execution_count": 7,
   "id": "d33b1107",
   "metadata": {},
   "outputs": [
    {
     "data": {
      "text/plain": [
       "array([[1, 2, 3],\n",
       "       [4, 5, 6]])"
      ]
     },
     "execution_count": 7,
     "metadata": {},
     "output_type": "execute_result"
    }
   ],
   "source": [
    "array2=np.array([[1,2,3],[4,5,6]])\n",
    "array2"
   ]
  },
  {
   "cell_type": "code",
   "execution_count": 9,
   "id": "86ed951b",
   "metadata": {},
   "outputs": [
    {
     "data": {
      "text/plain": [
       "array([[[1, 2],\n",
       "        [3, 4]],\n",
       "\n",
       "       [[5, 6],\n",
       "        [7, 8]]])"
      ]
     },
     "execution_count": 9,
     "metadata": {},
     "output_type": "execute_result"
    }
   ],
   "source": [
    "array3d=np.array([[\n",
    "                    [1,2],\n",
    "                    [3,4]\n",
    "                ],\n",
    "    [\n",
    "        [5,6],\n",
    "        [7,8]\n",
    "    ]\n",
    "])\n",
    "array3d"
   ]
  },
  {
   "cell_type": "code",
   "execution_count": 11,
   "id": "a46d4cc2",
   "metadata": {},
   "outputs": [
    {
     "data": {
      "text/plain": [
       "array([[[ 1,  2,  3],\n",
       "        [ 4,  5,  6],\n",
       "        [ 7,  8,  9]],\n",
       "\n",
       "       [[10, 11, 12],\n",
       "        [13, 14, 15],\n",
       "        [16, 17, 18]]])"
      ]
     },
     "execution_count": 11,
     "metadata": {},
     "output_type": "execute_result"
    }
   ],
   "source": [
    "array3ex=np.array([\n",
    "                    [\n",
    "                        [1,2,3],\n",
    "                        [4,5,6],\n",
    "                        [7,8,9]\n",
    "                    ],\n",
    "                  [\n",
    "                      [10,11,12],\n",
    "                      [13,14,15],\n",
    "                      [16,17,18]\n",
    "                  ]\n",
    "                  ])\n",
    "array3ex"
   ]
  },
  {
   "cell_type": "code",
   "execution_count": 12,
   "id": "a09d5d57",
   "metadata": {},
   "outputs": [
    {
     "data": {
      "text/plain": [
       "(2, 3, 3)"
      ]
     },
     "execution_count": 12,
     "metadata": {},
     "output_type": "execute_result"
    }
   ],
   "source": [
    "array3ex.shape"
   ]
  },
  {
   "cell_type": "code",
   "execution_count": 14,
   "id": "228b8e42",
   "metadata": {},
   "outputs": [
    {
     "data": {
      "text/plain": [
       "array([[[[1, 2],\n",
       "         [3, 4],\n",
       "         [5, 7]],\n",
       "\n",
       "        [[2, 4],\n",
       "         [4, 6],\n",
       "         [7, 5]],\n",
       "\n",
       "        [[6, 7],\n",
       "         [9, 8],\n",
       "         [8, 6]]],\n",
       "\n",
       "\n",
       "       [[[7, 4],\n",
       "         [2, 1],\n",
       "         [7, 8]],\n",
       "\n",
       "        [[5, 4],\n",
       "         [8, 5],\n",
       "         [9, 3]],\n",
       "\n",
       "        [[6, 3],\n",
       "         [9, 5],\n",
       "         [0, 5]]]])"
      ]
     },
     "execution_count": 14,
     "metadata": {},
     "output_type": "execute_result"
    }
   ],
   "source": [
    "array4d=np.array([\n",
    "    [\n",
    "        [\n",
    "            [1,2],\n",
    "            [3,4],\n",
    "            [5,7]\n",
    "            \n",
    "        ],\n",
    "        [\n",
    "            [2,4],\n",
    "            [4,6],\n",
    "            [7,5],\n",
    "        ],\n",
    "        [\n",
    "            [6,7],\n",
    "            [9,8],\n",
    "            [8,6]\n",
    "        ]\n",
    "    ],\n",
    "    [\n",
    "        [\n",
    "            [7,4],\n",
    "            [2,1],\n",
    "            [7,8],\n",
    "        ],\n",
    "        [\n",
    "            [5,4],\n",
    "            [8,5],\n",
    "            [9,3]\n",
    "        ],\n",
    "        [\n",
    "            [6,3],\n",
    "            [9,5],\n",
    "            [0,5]\n",
    "        ]\n",
    "    ]\n",
    "])\n",
    "array4d"
   ]
  },
  {
   "cell_type": "code",
   "execution_count": 15,
   "id": "7d4149e8",
   "metadata": {},
   "outputs": [
    {
     "data": {
      "text/plain": [
       "(2, 3, 3, 2)"
      ]
     },
     "execution_count": 15,
     "metadata": {},
     "output_type": "execute_result"
    }
   ],
   "source": [
    "array4d.shape"
   ]
  },
  {
   "cell_type": "code",
   "execution_count": 18,
   "id": "8ec6e155",
   "metadata": {},
   "outputs": [
    {
     "data": {
      "text/plain": [
       "array([12, 13, 14])"
      ]
     },
     "execution_count": 18,
     "metadata": {},
     "output_type": "execute_result"
    }
   ],
   "source": [
    "arrayex5=np.array((12,13,14))\n",
    "arrayex5"
   ]
  },
  {
   "cell_type": "code",
   "execution_count": 20,
   "id": "123882a2",
   "metadata": {},
   "outputs": [
    {
     "data": {
      "text/plain": [
       "(3,)"
      ]
     },
     "execution_count": 20,
     "metadata": {},
     "output_type": "execute_result"
    }
   ],
   "source": [
    "arrayex5.shape"
   ]
  },
  {
   "cell_type": "code",
   "execution_count": 22,
   "id": "fb0beadc",
   "metadata": {},
   "outputs": [
    {
     "name": "stdout",
     "output_type": "stream",
     "text": [
      "Array: [10 20 30 40 50]\n",
      "Mean: 30.0\n",
      "Standard deviation:14.14\n",
      "Maximum: 50\n",
      "Minimum: 10\n"
     ]
    }
   ],
   "source": [
    "arr=np.array([10,20,30,40,50])\n",
    "mean_val=np.mean(arr)\n",
    "std_dev=np.std(arr)\n",
    "max_val=np.max(arr)\n",
    "min_val=np.min(arr)\n",
    "print(\"Array:\",arr)\n",
    "print(\"Mean:\",mean_val)\n",
    "print(f\"Standard deviation:{std_dev:.2f}\")\n",
    "print(\"Maximum:\",max_val)\n",
    "print(\"Minimum:\",min_val)"
   ]
  },
  {
   "cell_type": "code",
   "execution_count": null,
   "id": "b3b9305f",
   "metadata": {},
   "outputs": [],
   "source": []
  }
 ],
 "metadata": {
  "kernelspec": {
   "display_name": "Python 3 (ipykernel)",
   "language": "python",
   "name": "python3"
  },
  "language_info": {
   "codemirror_mode": {
    "name": "ipython",
    "version": 3
   },
   "file_extension": ".py",
   "mimetype": "text/x-python",
   "name": "python",
   "nbconvert_exporter": "python",
   "pygments_lexer": "ipython3",
   "version": "3.11.4"
  }
 },
 "nbformat": 4,
 "nbformat_minor": 5
}
